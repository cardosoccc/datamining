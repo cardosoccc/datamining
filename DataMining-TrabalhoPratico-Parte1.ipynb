{
 "cells": [
  {
   "cell_type": "markdown",
   "metadata": {},
   "source": [
    "# Análise Exploratória + Limpeza + Seleção + Transformação)\n",
    "\n",
    "---\n",
    "\n",
    "Alunos:\n",
    "\n",
    "- Caio Cardoso\n",
    "- Adson Leal\n",
    "- Diego Marzarotto\n",
    "\n",
    "---"
   ]
  },
  {
   "cell_type": "markdown",
   "metadata": {},
   "source": [
    "## Objetivo\n",
    "\n",
    "---\n",
    "\n",
    "- desenvolver um modelo de classificação capaz de inferir o desfecho do caso, a partir de outros atributos do conjunto de dados\n",
    "- proposta inicial era um modelo para inferir o tratamento indicado para cada caso\n",
    "- as classes seriam geradas com base em combinações dos tratamentos aplicados para cada caso\n",
    "- explosão combinatória de classes inviabilizou a abordagem\n",
    "- decidiu-se por usar o desfecho do caso como rótulo"
   ]
  },
  {
   "cell_type": "markdown",
   "metadata": {},
   "source": [
    "## Motivação\n",
    "\n",
    "---\n",
    "\n",
    "- o modelo pode ser utilizado para realizar uma pré-triagem dos casos\n",
    "- o desfecho provável de um caso poderia ser útil para priorizar o atendimento de novos casos\n",
    "- maneira exata de como utilizar estas classficações é dependente de um melhor conhecimento do domínio\n",
    "- por exemplo: como priorizar um caso que o desfecho provável seja óbito?"
   ]
  },
  {
   "cell_type": "markdown",
   "metadata": {},
   "source": [
    "## Análise exploratória\n",
    "\n",
    "---"
   ]
  },
  {
   "cell_type": "code",
   "execution_count": 1,
   "metadata": {
    "collapsed": true
   },
   "outputs": [],
   "source": [
    "import matplotlib\n",
    "import numpy as np\n",
    "import pandas as pd\n",
    "import matplotlib.pyplot as plt\n",
    "matplotlib.style.use('ggplot')\n",
    "\n",
    "%matplotlib inline"
   ]
  },
  {
   "cell_type": "code",
   "execution_count": 2,
   "metadata": {
    "collapsed": true
   },
   "outputs": [],
   "source": [
    "df01 = pd.read_csv('./01_caso_intoxicacao', sep='|', index_col='identificador_caso')\n",
    "df04 = pd.read_csv('./04_paciente', sep='|', index_col='identificador_caso')\n",
    "df05 = pd.read_csv('./05_exposicao', sep='|', index_col='identificador_caso')\n",
    "df06 = pd.read_csv('./06_agente_intoxicante', sep='|', index_col='identificador_caso')\n",
    "df07 = pd.read_csv('./07_manifestacao', sep='|', index_col='identificador_caso')\n",
    "df12 = pd.read_csv('./12_encerramento', sep='|', index_col='identificador_caso')"
   ]
  },
  {
   "cell_type": "code",
   "execution_count": 3,
   "metadata": {
    "collapsed": true
   },
   "outputs": [],
   "source": [
    "def describe_and_plot(col, kind='bar', relative=False):\n",
    "    count = col.value_counts()\n",
    "    if relative:\n",
    "        count = count / float(col.shape[0])\n",
    "    print count\n",
    "    count.sort_values(ascending=(kind == 'barh')).plot(kind=kind, color='b', alpha=0.5)\n",
    "    plt.show()"
   ]
  },
  {
   "cell_type": "code",
   "execution_count": 4,
   "metadata": {
    "collapsed": true
   },
   "outputs": [],
   "source": [
    "def one_hot(col, prefix):\n",
    "    col_one_hot = pd.get_dummies(col, prefix=prefix)\n",
    "    return col_one_hot.groupby(col_one_hot.index).max()"
   ]
  },
  {
   "cell_type": "markdown",
   "metadata": {},
   "source": [
    "---\n",
    "\n",
    "### tabela 01_caso_intoxicacao"
   ]
  },
  {
   "cell_type": "code",
   "execution_count": 5,
   "metadata": {},
   "outputs": [
    {
     "data": {
      "text/plain": [
       "46083"
      ]
     },
     "execution_count": 5,
     "metadata": {},
     "output_type": "execute_result"
    }
   ],
   "source": [
    "df01.index.size # nr. de registros"
   ]
  },
  {
   "cell_type": "markdown",
   "metadata": {},
   "source": [
    "---\n",
    "\n",
    "- atributo **classificacao_gravidade**"
   ]
  },
  {
   "cell_type": "code",
   "execution_count": 6,
   "metadata": {},
   "outputs": [
    {
     "name": "stdout",
     "output_type": "stream",
     "text": [
      "Leve        37837\n",
      "Moderada     2913\n",
      "Grave        1575\n",
      "Name: classificacao_gravidade, dtype: int64\n"
     ]
    },
    {
     "data": {
      "image/png": "[encoded data removed]",
      "text/plain": [
       "<matplotlib.figure.Figure at 0x7f187fb95ad0>"
      ]
     },
     "metadata": {},
     "output_type": "display_data"
    }
   ],
   "source": [
    "describe_and_plot(df01.classificacao_gravidade)"
   ]
  },
  {
   "cell_type": "markdown",
   "metadata": {},
   "source": [
    "Decidiu-se por transformar o atributo categórico em 3 atributos binários distintos, um para cada valor possível"
   ]
  },
  {
   "cell_type": "markdown",
   "metadata": {},
   "source": [
    "---\n",
    "\n",
    "- atributo **manifestacao_clinica**"
   ]
  },
  {
   "cell_type": "code",
   "execution_count": 7,
   "metadata": {},
   "outputs": [
    {
     "name": "stdout",
     "output_type": "stream",
     "text": [
      "Sim         35414\n",
      "Não          7237\n",
      "Ignorada       28\n",
      "Name: manifestacao_clinica, dtype: int64\n"
     ]
    },
    {
     "data": {
      "image/png": "[encoded data removed]",
      "text/plain": [
       "<matplotlib.figure.Figure at 0x7f18c9961f50>"
      ]
     },
     "metadata": {},
     "output_type": "display_data"
    }
   ],
   "source": [
    "describe_and_plot(df01.manifestacao_clinica)"
   ]
  },
  {
   "cell_type": "markdown",
   "metadata": {},
   "source": [
    "Decidiu-se por transformar o atributo categórico em 3 atributos binários distintos, um para cada valor possível"
   ]
  },
  {
   "cell_type": "markdown",
   "metadata": {},
   "source": [
    "---\n",
    "\n",
    "### tabela 04_paciente"
   ]
  },
  {
   "cell_type": "code",
   "execution_count": 8,
   "metadata": {},
   "outputs": [
    {
     "data": {
      "text/plain": [
       "42575"
      ]
     },
     "execution_count": 8,
     "metadata": {},
     "output_type": "execute_result"
    }
   ],
   "source": [
    "df04.index.size # nr. de registros"
   ]
  },
  {
   "cell_type": "markdown",
   "metadata": {},
   "source": [
    "O fato de existirem menos registros nesta tabela nos leva a decidir por utlizar somente casos que possuam registros correspondentes nesta tabela"
   ]
  },
  {
   "cell_type": "markdown",
   "metadata": {},
   "source": [
    "---\n",
    "\n",
    "- atributo **especificacao_idade**"
   ]
  },
  {
   "cell_type": "code",
   "execution_count": 9,
   "metadata": {},
   "outputs": [
    {
     "name": "stdout",
     "output_type": "stream",
     "text": [
      "Anos                            41204\n",
      "Meses                             813\n",
      "Ignorado Adulto (> 15 anos)       312\n",
      "Ignorado                          113\n",
      "Dias                               46\n",
      "Ignorado Criança (< 14 anos)       18\n",
      "Name: especificacao_idade, dtype: int64\n"
     ]
    },
    {
     "data": {
      "image/png": "[encoded data removed]",
      "text/plain": [
       "<matplotlib.figure.Figure at 0x7f18c7988f10>"
      ]
     },
     "metadata": {},
     "output_type": "display_data"
    }
   ],
   "source": [
    "describe_and_plot(df04.especificacao_idade)"
   ]
  },
  {
   "cell_type": "markdown",
   "metadata": {},
   "source": [
    "---\n",
    "\n",
    "- atributo **idade**"
   ]
  },
  {
   "cell_type": "code",
   "execution_count": 36,
   "metadata": {
    "scrolled": true
   },
   "outputs": [
    {
     "data": {
      "image/png": "[encoded data removed]",
      "text/plain": [
       "<matplotlib.figure.Figure at 0x7f187e247690>"
      ]
     },
     "metadata": {},
     "output_type": "display_data"
    }
   ],
   "source": [
    "countby_idade = df04[df04.especificacao_idade == 'Anos'].groupby('idade').idade.count()\n",
    "countby_idade.plot(kind='bar', color='b', alpha=0.5, figsize=(14,4))\n",
    "    \n",
    "plt.show()"
   ]
  },
  {
   "cell_type": "markdown",
   "metadata": {},
   "source": [
    "As informações sobre as idades dos pacientes nos leva a criar diferentes categorias de idade, com um atributo binário para cada uma destas categorias: \n",
    "\n",
    "- bebê (até 2 anos)\n",
    "- criança (2 até 10 anos)\n",
    "- pré-adolescente (10 até 13 anos)\n",
    "- adolescente (13 até 16 anos)\n",
    "- jovem (18 até 30 anos)\n",
    "- adulto (30 até 60 anos)\n",
    "- idoso (acima de 60 anos)"
   ]
  },
  {
   "cell_type": "markdown",
   "metadata": {},
   "source": [
    "---\n",
    "\n",
    "- atributo **periodo_gestacao**"
   ]
  },
  {
   "cell_type": "code",
   "execution_count": 11,
   "metadata": {},
   "outputs": [
    {
     "name": "stdout",
     "output_type": "stream",
     "text": [
      "Não se aplica             27308\n",
      "Não                        9485\n",
      "Ignorado                   4873\n",
      "Segundo trimestre           135\n",
      "Primeiro trimestre          119\n",
      "Terceiro trimestre          104\n",
      "Trimestre desconhecido       34\n",
      "Name: periodo_gestacao, dtype: int64\n"
     ]
    },
    {
     "data": {
      "image/png": "[encoded data removed]",
      "text/plain": [
       "<matplotlib.figure.Figure at 0x7f187ecefb90>"
      ]
     },
     "metadata": {},
     "output_type": "display_data"
    }
   ],
   "source": [
    "describe_and_plot( df04.periodo_gestacao)"
   ]
  },
  {
   "cell_type": "markdown",
   "metadata": {},
   "source": [
    "As informações sobre gestação nos levam a decidir por criar um atributo binário indicando se é gestante ou não."
   ]
  },
  {
   "cell_type": "markdown",
   "metadata": {},
   "source": [
    "---\n",
    "\n",
    "- atributo **peso**"
   ]
  },
  {
   "cell_type": "code",
   "execution_count": 12,
   "metadata": {},
   "outputs": [
    {
     "name": "stdout",
     "output_type": "stream",
     "text": [
      "identificador_caso\n",
      "171850    500.0\n",
      "131590    500.0\n",
      "275492    200.0\n",
      "74661     200.0\n",
      "32900     162.0\n",
      "117345    150.0\n",
      "222842    150.0\n",
      "140369    149.0\n",
      "305287    147.0\n",
      "280473    143.0\n",
      "Name: peso, dtype: float64\n"
     ]
    }
   ],
   "source": [
    "print df04.peso.sort_values(ascending=False)[:10] # top-10"
   ]
  },
  {
   "cell_type": "markdown",
   "metadata": {},
   "source": [
    "Os dados indicam a presença de outliers, or isso decidiu-se por ignorar os registros com peso muito acima da média."
   ]
  },
  {
   "cell_type": "code",
   "execution_count": 37,
   "metadata": {},
   "outputs": [
    {
     "data": {
      "text/plain": [
       "<matplotlib.axes._subplots.AxesSubplot at 0x7f1878ff3f90>"
      ]
     },
     "execution_count": 37,
     "metadata": {},
     "output_type": "execute_result"
    },
    {
     "data": {
      "image/png": "[encoded data removed]",
      "text/plain": [
       "<matplotlib.figure.Figure at 0x7f187f781a50>"
      ]
     },
     "metadata": {},
     "output_type": "display_data"
    }
   ],
   "source": [
    "df04[df04.peso<200].peso.hist(bins=50, color='b', alpha=0.5)"
   ]
  },
  {
   "cell_type": "markdown",
   "metadata": {},
   "source": [
    "Os dados indicam que a informação de peso pode não ser muito confiável, pois existem muito valores \"redondos\" (10, 60, 65, 70, etc.), o que nos leva a discretizar este atributo, ao invés de normalizar e utilizar o valor numérico. Decidiu-se por criar um atributo binário para cada categoria:\n",
    "\n",
    "- até 5 kg\n",
    "- 5 até 15 kg\n",
    "- 15 até 25 kg\n",
    "- 25 até 35 kg\n",
    "- 35 até 45 kg\n",
    "- 45 até 60 kg\n",
    "- 55 até 70 kg\n",
    "- 65 até 80 kg\n",
    "- 75 até 90 kg\n",
    "- 85 até 95 kg\n",
    "- acima de 95kg"
   ]
  },
  {
   "cell_type": "markdown",
   "metadata": {},
   "source": [
    "---\n",
    "\n",
    "- atributo **sexo**"
   ]
  },
  {
   "cell_type": "code",
   "execution_count": 14,
   "metadata": {},
   "outputs": [
    {
     "name": "stdout",
     "output_type": "stream",
     "text": [
      "Feminino     21777\n",
      "Masculino    20651\n",
      "Ignorado        81\n",
      "Name: sexo, dtype: int64\n"
     ]
    },
    {
     "data": {
      "image/png": "[encoded data removed]",
      "text/plain": [
       "<matplotlib.figure.Figure at 0x7f187ec3ccd0>"
      ]
     },
     "metadata": {},
     "output_type": "display_data"
    }
   ],
   "source": [
    "describe_and_plot(df04.sexo)"
   ]
  },
  {
   "cell_type": "markdown",
   "metadata": {},
   "source": [
    "Decidiu-se por transformar o atributo categórico em 3 atributos binários distintos, um para cada valor possível"
   ]
  },
  {
   "cell_type": "markdown",
   "metadata": {},
   "source": [
    "---\n",
    "\n",
    "### tabela 05_exposicao"
   ]
  },
  {
   "cell_type": "markdown",
   "metadata": {},
   "source": [
    "O um mesmo paciente pode ter sido atendido após exposto a mais de um tipo de agente intoxicante, então pode haver mais de um registro por paciente na tabela. "
   ]
  },
  {
   "cell_type": "markdown",
   "metadata": {},
   "source": [
    "---\n",
    "\n",
    "- atributo **intensidade_exposicao**"
   ]
  },
  {
   "cell_type": "code",
   "execution_count": 15,
   "metadata": {},
   "outputs": [
    {
     "name": "stdout",
     "output_type": "stream",
     "text": [
      "Aguda - Única          40592\n",
      "Aguda sobre Crônica     1238\n",
      "Aguda - Repetida        1145\n",
      "Ignorado                1143\n",
      "Crônica                  351\n",
      "Name: intensidade_exposicao, dtype: int64\n"
     ]
    },
    {
     "data": {
      "image/png": "[encoded data removed]",
      "text/plain": [
       "<matplotlib.figure.Figure at 0x7f187df76950>"
      ]
     },
     "metadata": {},
     "output_type": "display_data"
    }
   ],
   "source": [
    "describe_and_plot(df05.intensidade_exposicao)"
   ]
  },
  {
   "cell_type": "markdown",
   "metadata": {},
   "source": [
    "---\n",
    "\n",
    "- atributo **via_exposicao**"
   ]
  },
  {
   "cell_type": "code",
   "execution_count": 16,
   "metadata": {},
   "outputs": [
    {
     "name": "stdout",
     "output_type": "stream",
     "text": [
      "Oral                        19087\n",
      "Mordida/Picada/Contato      17204\n",
      "Cutânea                      2451\n",
      "Respiratória/Inalatória      2239\n",
      "Ignorada                     1707\n",
      "Ocular                        630\n",
      "Não se aplica                 587\n",
      "Nasal                         365\n",
      "Parenteral Intravenosa        116\n",
      "Outra                         111\n",
      "Parenteral Intramuscular       71\n",
      "Parenteral Subcutânea          37\n",
      "Parenteral Intradérmica        14\n",
      "Sublingual                      3\n",
      "Otológica                       2\n",
      "Vaginal                         2\n",
      "Retal                           1\n",
      "Transplacentária                1\n",
      "Name: via_exposicao, dtype: int64\n"
     ]
    },
    {
     "data": {
      "image/png": "[encoded data removed]",
      "text/plain": [
       "<matplotlib.figure.Figure at 0x7f187debf890>"
      ]
     },
     "metadata": {},
     "output_type": "display_data"
    }
   ],
   "source": [
    "describe_and_plot(df05.via_exposicao, kind='barh')"
   ]
  },
  {
   "cell_type": "markdown",
   "metadata": {},
   "source": [
    "---\n",
    "\n",
    "- atributo **circunstancia_exposicao**"
   ]
  },
  {
   "cell_type": "code",
   "execution_count": 17,
   "metadata": {
    "scrolled": false
   },
   "outputs": [
    {
     "name": "stdout",
     "output_type": "stream",
     "text": [
      "Acidental                                                       24497\n",
      "Tentativa de Suicídio                                            9754\n",
      "Ocupacional                                                      3848\n",
      "Ignorada                                                         2347\n",
      "Abuso                                                            1314\n",
      "Outra                                                             757\n",
      "Erro de Medicação - Dose                                          364\n",
      "Uso Terapêutico                                                   324\n",
      "Automedicação - Iniciativa do próprio paciente e/ou cuidador      317\n",
      "Erro de Medicação - Troca de Embalagens                           224\n",
      "Reação Adversa: Medicamento                                       199\n",
      "Uso Indevido                                                      173\n",
      "Ingestão Alimentar                                                 77\n",
      "Erro de Medicação - Troca de Nomes                                 74\n",
      "Erro de Medicação - Outra                                          69\n",
      "Erro de Medicação - Via                                            65\n",
      "Violência/Maus Tratos/Homicidio                                    64\n",
      "Automedicação - Indicação de pessoa não autorizada                 31\n",
      "Tentativa de Abortamento                                           26\n",
      "Erro de Medicação - Dispensação                                    24\n",
      "Reação Adversa: Cosmético                                          24\n",
      "Interação Medicamentosa                                            13\n",
      "Erro de Medicação - Prescrição Médica Inadequada                   12\n",
      "Erro de Medicação - Preparação                                      8\n",
      "Aleitamento Materno                                                 8\n",
      "Reação Adversa: Outra                                               8\n",
      "Reação Adversa: Alimento                                            5\n",
      "Abstinência                                                         3\n",
      "Erro de Medicação - Rotulagem                                       3\n",
      "Ambiental                                                           1\n",
      "Name: circunstancia_exposicao, dtype: int64\n"
     ]
    },
    {
     "data": {
      "image/png": "[encoded data removed]",
      "text/plain": [
       "<matplotlib.figure.Figure at 0x7f187de5bed0>"
      ]
     },
     "metadata": {},
     "output_type": "display_data"
    }
   ],
   "source": [
    "describe_and_plot(df05.circunstancia_exposicao, kind='barh')"
   ]
  },
  {
   "cell_type": "markdown",
   "metadata": {},
   "source": [
    "Quanto aos atributos circunstancia_exposicao, via_exposicao e intensidade_exposicao, decidiu-se por criar um atributo binário para cada valor possível de cada um destes três atributos. Esta abordagem nos facilita ao lidar com casos com mais de um registro de exposicao.  \n",
    "\n",
    "Optou-se por não se utilizar os atributos tempo_decorrido e especificacao_tempo_decorrido, por serem específicos de uma exposição individual, e encontrou-se dificuldade de representar esta informação na forma de um único registro no novo conjunto de dados a ser criado."
   ]
  },
  {
   "cell_type": "markdown",
   "metadata": {},
   "source": [
    "---\n",
    "\n",
    "### tabela 06_agente_intoxicante"
   ]
  },
  {
   "cell_type": "markdown",
   "metadata": {},
   "source": [
    "---\n",
    "\n",
    "- atributo **grupo_agente**"
   ]
  },
  {
   "cell_type": "code",
   "execution_count": 18,
   "metadata": {},
   "outputs": [
    {
     "name": "stdout",
     "output_type": "stream",
     "text": [
      "MEDICAMENTOS                                     21806\n",
      "ANIMAIS PEÇONHENTOS/VENENOSOS                    13563\n",
      "OUTROS                                            8265\n",
      "AGROTÓXICOS                                       2757\n",
      "PRODUTOS QUÍMICOS RESIDENCIAIS OU INDUSTRIAIS     2360\n",
      "DROGAS DE ABUSO                                   2165\n",
      "PRODUTOS DOMISSANITÁRIOS                          1965\n",
      "ANIMAIS NÃO PEÇONHENTOS/NÃO VENENOSOS             1684\n",
      "RATICIDAS                                          977\n",
      "PLANTAS E FUNGOS                                   597\n",
      "INSETICIDAS DE USO DOMÉSTICO                       509\n",
      "PRODUTOS DE USO VETERINÁRIO                        490\n",
      "COSMÉTICOS E HIGIENE PESSOAL                       384\n",
      "ALIMENTOS                                           75\n",
      "METAIS                                              50\n",
      "Name: grupo_agente, dtype: int64\n"
     ]
    },
    {
     "data": {
      "image/png": "[encoded data removed]",
      "text/plain": [
       "<matplotlib.figure.Figure at 0x7f187de5bf50>"
      ]
     },
     "metadata": {},
     "output_type": "display_data"
    }
   ],
   "source": [
    "describe_and_plot(df06.grupo_agente, kind='barh')"
   ]
  },
  {
   "cell_type": "code",
   "execution_count": 19,
   "metadata": {},
   "outputs": [
    {
     "data": {
      "text/plain": [
       "(15,)"
      ]
     },
     "execution_count": 19,
     "metadata": {},
     "output_type": "execute_result"
    }
   ],
   "source": [
    "df06.grupo_agente.value_counts().shape"
   ]
  },
  {
   "cell_type": "markdown",
   "metadata": {
    "collapsed": true
   },
   "source": [
    "---\n",
    "\n",
    "- atributo **classe_agente**"
   ]
  },
  {
   "cell_type": "code",
   "execution_count": 20,
   "metadata": {},
   "outputs": [
    {
     "data": {
      "text/plain": [
       "(226,)"
      ]
     },
     "execution_count": 20,
     "metadata": {},
     "output_type": "execute_result"
    }
   ],
   "source": [
    "df06.classe_agente.value_counts().shape"
   ]
  },
  {
   "cell_type": "markdown",
   "metadata": {
    "collapsed": true
   },
   "source": [
    "---\n",
    "\n",
    "- atributo **subclasse_agente**"
   ]
  },
  {
   "cell_type": "code",
   "execution_count": 21,
   "metadata": {},
   "outputs": [
    {
     "data": {
      "text/plain": [
       "(612,)"
      ]
     },
     "execution_count": 21,
     "metadata": {},
     "output_type": "execute_result"
    }
   ],
   "source": [
    "df06.subclasse_agente.value_counts().shape"
   ]
  },
  {
   "cell_type": "markdown",
   "metadata": {},
   "source": [
    "Decidiu-se por criar um atributo binário para cada categoria do atributo grupo_agente. Os atributos classe_agente e subclasse_agente não serão utilizados inicialmente por possuirem muitos valores, o que aumentará muito o número de atributos."
   ]
  },
  {
   "cell_type": "markdown",
   "metadata": {},
   "source": [
    "---\n",
    "\n",
    "### tabela 07_manifestacao"
   ]
  },
  {
   "cell_type": "markdown",
   "metadata": {
    "collapsed": true
   },
   "source": [
    "---\n",
    "\n",
    "- atributo **classificacao_manifestacao**"
   ]
  },
  {
   "cell_type": "code",
   "execution_count": 22,
   "metadata": {},
   "outputs": [
    {
     "name": "stdout",
     "output_type": "stream",
     "text": [
      "Dermatológicas                                      45296\n",
      "Neuro/psíquica/muscular                             12617\n",
      "Digestivas                                           9368\n",
      "Cardiológicas                                        2722\n",
      "Diagnósticos Anatômicos, Funcionais, Sindrômicos     1809\n",
      "Oculares                                             1752\n",
      "Respiratórias                                        1574\n",
      "Outras                                                880\n",
      "Gerais                                                739\n",
      "Genitourinária                                        238\n",
      "Otorrinolaringológicas                                 62\n",
      "Name: classificacao_manifestacao, dtype: int64\n"
     ]
    },
    {
     "data": {
      "image/png": "[encoded data removed]",
      "text/plain": [
       "<matplotlib.figure.Figure at 0x7f187dcc8250>"
      ]
     },
     "metadata": {},
     "output_type": "display_data"
    }
   ],
   "source": [
    "describe_and_plot(df07.classificacao_manifestacao, kind='barh')"
   ]
  },
  {
   "cell_type": "markdown",
   "metadata": {
    "collapsed": true
   },
   "source": [
    "---\n",
    "\n",
    "- atributo **manifestacao_apresentada**"
   ]
  },
  {
   "cell_type": "code",
   "execution_count": 23,
   "metadata": {},
   "outputs": [
    {
     "data": {
      "text/plain": [
       "(208,)"
      ]
     },
     "execution_count": 23,
     "metadata": {},
     "output_type": "execute_result"
    }
   ],
   "source": [
    "df07.manifestacao_apresentada.value_counts().shape"
   ]
  },
  {
   "cell_type": "code",
   "execution_count": 24,
   "metadata": {},
   "outputs": [
    {
     "data": {
      "text/plain": [
       "Dor (Dermatológicas)              13396\n",
       "Hiperemia                          7448\n",
       "Edema                              7271\n",
       "Sonolência                         4826\n",
       "Eritema                            3230\n",
       "Vômitos                            3147\n",
       "Prurido                            2742\n",
       "Náuseas                            2419\n",
       "Parestesia (Dermatológica)         2019\n",
       "Marca das presas/da picada         1938\n",
       "Equimose                           1360\n",
       "Cefaléia                           1256\n",
       "Taquicardia                        1222\n",
       "Bolhas                             1207\n",
       "Agitação                           1197\n",
       "Alteração Nível de Consciência     1173\n",
       "Dor abdominal                       945\n",
       "Calor local                         935\n",
       "Tonturas / Vertigem                 889\n",
       "Outras                              880\n",
       "Name: manifestacao_apresentada, dtype: int64"
      ]
     },
     "execution_count": 24,
     "metadata": {},
     "output_type": "execute_result"
    }
   ],
   "source": [
    "df07.manifestacao_apresentada.value_counts().head(20)"
   ]
  },
  {
   "cell_type": "markdown",
   "metadata": {},
   "source": [
    "Decidiu-se utilizar inicialmente os valores do atributo classificacao_manifestacao como novos atributos booleanos. O atributo manifestacao_apresentada não será incluído na primeira versão do conjunto de dados por também possuir muitos valores."
   ]
  },
  {
   "cell_type": "markdown",
   "metadata": {},
   "source": [
    "---\n",
    "\n",
    "### tabela 12_encerramento"
   ]
  },
  {
   "cell_type": "markdown",
   "metadata": {
    "collapsed": true
   },
   "source": [
    "---\n",
    "\n",
    "- atributo **desfecho**"
   ]
  },
  {
   "cell_type": "code",
   "execution_count": 25,
   "metadata": {},
   "outputs": [
    {
     "name": "stdout",
     "output_type": "stream",
     "text": [
      "Manifestações Clínicas Leves                            0.536333\n",
      "Diagnóstico Diferencial (confirmada a não exposição)    0.151111\n",
      "Sem Manifestações Clínicas (Assintomático)              0.129828\n",
      "Manifestações Clínicas Moderadas                        0.041427\n",
      "Exposição não tóxica, sem acompanhamento                0.029045\n",
      "Manifestações Clínicas Graves                           0.019891\n",
      "Exposição levemente tóxica, sem acompanhamento          0.018667\n",
      "Ignorado                                                0.012424\n",
      "Exposição potencialmente tóxica, sem acompanhamento     0.007129\n",
      "Óbito                                                   0.005273\n",
      "Óbito por outra causa                                   0.001561\n",
      "Manifestações Clínicas Graves com Sequelas              0.000823\n",
      "Name: desfecho, dtype: float64\n"
     ]
    },
    {
     "data": {
      "image/png": "[encoded data removed]",
      "text/plain": [
       "<matplotlib.figure.Figure at 0x7f187debfc10>"
      ]
     },
     "metadata": {},
     "output_type": "display_data"
    }
   ],
   "source": [
    "describe_and_plot(df12.desfecho, kind='barh', relative=True)"
   ]
  },
  {
   "cell_type": "markdown",
   "metadata": {},
   "source": [
    "## Limpeza / Seleção / Transformação dos dados\n",
    "\n",
    "---"
   ]
  },
  {
   "cell_type": "code",
   "execution_count": 26,
   "metadata": {
    "collapsed": true
   },
   "outputs": [],
   "source": [
    "def transform_age(row):\n",
    "    quantity = row['idade']\n",
    "    spec = row['especificacao_idade']\n",
    "    \n",
    "    if spec == 'Anos':\n",
    "        quantity = quantity\n",
    "    elif spec == 'Meses':\n",
    "        quantity = quantity / 12\n",
    "    elif spec == 'Dias':\n",
    "        quantity = quantity / 365\n",
    "    else:\n",
    "        return None\n",
    "        \n",
    "    \n",
    "    if quantity < 2:\n",
    "        return 'Bebe'\n",
    "    elif quantity >= 2 and quantity < 10:\n",
    "        return 'Crianca'\n",
    "    elif quantity >= 10 and quantity < 13:\n",
    "        return 'Preadolescente'\n",
    "    elif quantity >= 13 and quantity < 18:\n",
    "        return 'Adolescente'\n",
    "    elif quantity >= 18 and quantity < 30:\n",
    "        return 'Jovem'\n",
    "    elif quantity >= 30 and quantity < 60:\n",
    "        return 'Adulto'\n",
    "    elif quantity >= 60:\n",
    "        return 'Idoso'\n",
    "    else:\n",
    "        return None"
   ]
  },
  {
   "cell_type": "code",
   "execution_count": 27,
   "metadata": {
    "collapsed": true
   },
   "outputs": [],
   "source": [
    "def transform_weight(row):\n",
    "    weight = row['peso']\n",
    "        \n",
    "    if weight < 5:\n",
    "        return 'ate_5'\n",
    "    elif weight >= 5 and weight < 15:\n",
    "        return '5_ate_15'\n",
    "    elif weight >= 15 and weight < 25:\n",
    "        return '15_ate_25'\n",
    "    elif weight >= 25 and weight < 35:\n",
    "        return '25_ate_35'\n",
    "    elif weight >= 35 and weight < 45:\n",
    "        return '35_ate_45'\n",
    "    elif weight >= 45 and weight < 55:\n",
    "        return '45_ate_55'\n",
    "    elif weight >= 55 and weight < 65:\n",
    "        return '55_ate_65'\n",
    "    elif weight >= 65 and weight < 75:\n",
    "        return '65_ate_75'\n",
    "    elif weight >= 75 and weight < 85:\n",
    "        return '75_ate_85'\n",
    "    elif weight >= 85 and weight < 95:\n",
    "        return '85_ate_95'\n",
    "    elif weight >= 95:\n",
    "        return 'acima_de_95'\n"
   ]
  },
  {
   "cell_type": "markdown",
   "metadata": {},
   "source": [
    "---\n",
    "\n",
    "### Conjunto de atributos #1"
   ]
  },
  {
   "cell_type": "code",
   "execution_count": 28,
   "metadata": {
    "collapsed": true
   },
   "outputs": [],
   "source": [
    "# tabela 01\n",
    "\n",
    "features1 = one_hot(df01.classificacao_gravidade, 'classificacao_gravidade')\n",
    "\n",
    "manifestacao_clinica_one_hot = one_hot(df01.manifestacao_clinica, \n",
    "                                       'manifestacao_clinica')\n",
    "\n",
    "features1 = pd.concat([features1, manifestacao_clinica_one_hot], axis=1)\n",
    "\n",
    "# tabela 04\n",
    "\n",
    "idade = df04.apply(transform_age, axis=1)\n",
    "idade_one_hot = one_hot(idade, 'faixaetaria')\n",
    "\n",
    "gestante = df04.periodo_gestacao.map({\n",
    "    'Não se aplica': 0, \n",
    "    'Não': 0, \n",
    "    'Ignorado': 0,\n",
    "    'Primeiro trimestre': 1,\n",
    "    'Segundo trimestre': 1,\n",
    "    'Terceiro trimestre': 1,\n",
    "    'Trimestre desconhecido': 1,\n",
    "})\n",
    "\n",
    "gestante = gestante.fillna(0).astype(np.uint8)\n",
    "gestante.name = 'gestante'\n",
    "\n",
    "peso = df04.apply(transform_weight, axis=1)\n",
    "peso_one_hot = one_hot(peso, 'peso')\n",
    "\n",
    "sexo_one_hot = one_hot(df04.sexo, 'sexo')\n",
    "\n",
    "features_tmp = pd.DataFrame(idade_one_hot)\n",
    "features_tmp = pd.concat([features_tmp, peso_one_hot, sexo_one_hot, gestante], axis=1)\n",
    "features1 = pd.concat([features1, features_tmp], axis=1, join='inner')\n",
    "\n",
    "# tabela 05\n",
    "\n",
    "via_exposicao_one_hot = one_hot(df05.via_exposicao, 'via_exposicao')\n",
    "\n",
    "intensidade_exposicao_one_hot = one_hot(df05.intensidade_exposicao, \n",
    "                                        'intensidade_exposicao')\n",
    "\n",
    "circunstancia_exposicao_one_hot = one_hot(df05.circunstancia_exposicao, \n",
    "                                          'circunstancia_exposicao')\n",
    "\n",
    "features_tmp = pd.DataFrame(via_exposicao_one_hot)\n",
    "features_tmp = pd.concat([\n",
    "    features_tmp, \n",
    "    intensidade_exposicao_one_hot, \n",
    "    circunstancia_exposicao_one_hot], axis=1)\n",
    "\n",
    "features_tmp = features_tmp.loc[features1.index]\n",
    "features1 = pd.concat([features1, features_tmp], axis=1).fillna(0).astype(np.uint8)\n",
    "\n",
    "# tabela 06\n",
    "\n",
    "grupo_agente_one_hot = one_hot(df06.grupo_agente, prefix='grupo_agente')\n",
    "\n",
    "features_tmp = grupo_agente_one_hot.loc[features1.index]\n",
    "features1 = pd.concat([features1, features_tmp], axis=1).fillna(0).astype(np.uint8)\n",
    "\n",
    "# tabela 07\n",
    "\n",
    "classificacao_manifestacao_one_hot = one_hot(df07.classificacao_manifestacao, \n",
    "                                             'classificacao_manifestacao')\n",
    "\n",
    "features_tmp = classificacao_manifestacao_one_hot.loc[features1.index]\n",
    "features1 = pd.concat([features1, features_tmp], axis=1).fillna(0).astype(np.uint8)"
   ]
  },
  {
   "cell_type": "markdown",
   "metadata": {},
   "source": [
    "---\n",
    "\n",
    "### Conjunto de atributos #2 (+ classe_agente, + manifestacao_apresentada)"
   ]
  },
  {
   "cell_type": "code",
   "execution_count": 29,
   "metadata": {
    "collapsed": true
   },
   "outputs": [],
   "source": [
    "# tabela 06\n",
    "\n",
    "classe_agente_one_hot = one_hot(df06.classe_agente, 'classe_agente')\n",
    "\n",
    "# tabela 07\n",
    "\n",
    "manifestacao_apresentada_one_hot = one_hot(df07.manifestacao_apresentada, \n",
    "                                           'manifestacao_apresentada')\n",
    "\n",
    "features2 = features1.copy()\n",
    "\n",
    "features2 = pd.concat([\n",
    "    features2, \n",
    "    classe_agente_one_hot.loc[features1.index]\n",
    "], axis=1)\n",
    "\n",
    "features2 = pd.concat([\n",
    "    features2, \n",
    "    manifestacao_apresentada_one_hot.loc[features1.index]\n",
    "], axis=1)\n",
    "\n",
    "features2 = features2.fillna(0).astype(np.uint8)"
   ]
  },
  {
   "cell_type": "markdown",
   "metadata": {},
   "source": [
    "---\n",
    "\n",
    "### Conjunto de atributos #3 (+ subclasse_agente)"
   ]
  },
  {
   "cell_type": "code",
   "execution_count": 30,
   "metadata": {
    "collapsed": true
   },
   "outputs": [],
   "source": [
    "# tabela 07\n",
    "\n",
    "subclasse_agente_one_hot = one_hot(df06.subclasse_agente, 'subclasse_agente')\n",
    "\n",
    "features3 = features2.copy()\n",
    "features3 = pd.concat([\n",
    "    features2, \n",
    "    subclasse_agente_one_hot.loc[features1.index]\n",
    "], axis=1)\n",
    "\n",
    "features3 = features3.fillna(0).astype(np.uint8)"
   ]
  },
  {
   "cell_type": "markdown",
   "metadata": {},
   "source": [
    "---\n",
    "\n",
    "### Classes (desfecho)"
   ]
  },
  {
   "cell_type": "code",
   "execution_count": 31,
   "metadata": {
    "collapsed": true
   },
   "outputs": [],
   "source": [
    "df12 = pd.read_csv('./12_encerramento', sep='|', index_col='identificador_caso')\n",
    "df12 = df12.loc[features1.index]\n",
    "df12 = df12[~df12.desfecho.isnull()]\n",
    "\n",
    "desfecho_counts = df12.groupby(df12.index).desfecho.count()\n",
    "single_desfecho_ix = desfecho_counts[desfecho_counts==1].index\n",
    "\n",
    "df12 = df12.loc[single_desfecho_ix]\n",
    "df12.desfecho = df12.desfecho.astype('category')\n",
    "\n",
    "labels = pd.DataFrame({\n",
    "    'desfecho': df12.desfecho.cat.codes, \n",
    "    'classes': df12.desfecho \n",
    "})"
   ]
  },
  {
   "cell_type": "code",
   "execution_count": 32,
   "metadata": {
    "collapsed": true
   },
   "outputs": [],
   "source": [
    "# considerando apenas registros que tenham rótulo disponível\n",
    "\n",
    "features1 = features1.loc[labels.index]\n",
    "features2 = features2.loc[labels.index]\n",
    "features3 = features3.loc[labels.index]"
   ]
  },
  {
   "cell_type": "code",
   "execution_count": 33,
   "metadata": {
    "collapsed": true
   },
   "outputs": [],
   "source": [
    "features1.to_csv('features1.csv', index=False)\n",
    "features2.to_csv('features2.csv', index=False)\n",
    "features3.to_csv('features3.csv', index=False)\n",
    "\n",
    "labels.to_csv('labels.csv', index=False)"
   ]
  },
  {
   "cell_type": "code",
   "execution_count": 34,
   "metadata": {},
   "outputs": [
    {
     "name": "stdout",
     "output_type": "stream",
     "text": [
      "dimensões conjunto de features #1: (40311, 107)\n",
      "dimensões conjunto de features #2: (40311, 541)\n",
      "dimensões conjunto de features #3: (40311, 1153)\n"
     ]
    }
   ],
   "source": [
    "print 'dimensões conjunto de features #1:', features1.shape\n",
    "print 'dimensões conjunto de features #2:', features2.shape\n",
    "print 'dimensões conjunto de features #3:', features3.shape"
   ]
  }
 ],
 "metadata": {
  "kernelspec": {
   "display_name": "Python 2",
   "language": "python",
   "name": "python2"
  },
  "language_info": {
   "codemirror_mode": {
    "name": "ipython",
    "version": 2
   },
   "file_extension": ".py",
   "mimetype": "text/x-python",
   "name": "python",
   "nbconvert_exporter": "python",
   "pygments_lexer": "ipython2",
   "version": "2.7.13"
  }
 },
 "nbformat": 4,
 "nbformat_minor": 2
}
